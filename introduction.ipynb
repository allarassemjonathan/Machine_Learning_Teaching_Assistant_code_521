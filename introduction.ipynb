{
 "cells": [
  {
   "cell_type": "code",
   "execution_count": 114,
   "id": "301cf48c",
   "metadata": {},
   "outputs": [],
   "source": [
    "# enumerate the users\n",
    "users = [{\"id\":1, \"name\":\"Daniel\"},\n",
    "         {\"id\":2, \"name\":\"Jennifer\"},\n",
    "         {\"id\":3, \"name\":\"Andrew\"},\n",
    "         {\"id\":4, \"name\":\"Rachel\"},\n",
    "         {\"id\":5, \"name\":\"Alfred\"},\n",
    "         {\"id\":6, \"name\":\"Klie\"},\n",
    "         {\"id\":7, \"name\":\"Tyler\"},\n",
    "         {\"id\":8, \"name\":\"Trevor\"},\n",
    "         {\"id\":9, \"name\":\"Remi\"},\n",
    "         {\"id\":10, \"name\":\"Jonathan\"}\n",
    "        ]\n",
    "# establish the relationships\n",
    "relationships = [(0,1),(1,4),(1,5),(5,2),\n",
    "               (5,6),(5,7),(5,8),(8,7),\n",
    "               (7,9),(6,4),(6,3)\n",
    "              ]"
   ]
  },
  {
   "cell_type": "code",
   "execution_count": 115,
   "id": "ded037e6",
   "metadata": {},
   "outputs": [],
   "source": [
    "# adding friends to users\n",
    "for user in users:\n",
    "    user[\"friends\"] = []\n",
    "\n",
    "# connecting friends\n",
    "for i,j in relationships:\n",
    "    users[i]['friends'].append(users[j])\n",
    "    users[j]['friends'].append(users[i])"
   ]
  },
  {
   "cell_type": "code",
   "execution_count": 117,
   "id": "a4016339",
   "metadata": {},
   "outputs": [
    {
     "name": "stdout",
     "output_type": "stream",
     "text": [
      "22\n",
      "2.2\n"
     ]
    }
   ],
   "source": [
    "# number of relationships for arbitrary user\n",
    "def num_of_friends(user):\n",
    "    return len(user['friends'])\n",
    "\n",
    "# total number of relationships\n",
    "total_relationships = sum(num_of_friends(user) for user in users)\n",
    "avg_relationships = total_relationships/len(users)\n",
    "\n",
    "print(total_relationships)\n",
    "print(avg_relationships)"
   ]
  },
  {
   "cell_type": "code",
   "execution_count": 119,
   "id": "8f8b01ec",
   "metadata": {},
   "outputs": [
    {
     "name": "stdout",
     "output_type": "stream",
     "text": [
      "[1, 2, 3, 4, 5, 6, 7, 8, 9, 10] [1, 3, 1, 1, 2, 5, 3, 3, 2, 1]\n"
     ]
    }
   ],
   "source": [
    "# calculate the numb of friends by id\n",
    "tuplee_id_friends = [(user[\"id\"], num_of_friends(user)) for user in users]\n",
    "x = [i for i,j in tuplee_id_friends]\n",
    "y = [j for i,j in tuplee_id_friends]\n",
    "print(x,y)"
   ]
  },
  {
   "cell_type": "code",
   "execution_count": 80,
   "id": "f6ff4d50",
   "metadata": {},
   "outputs": [],
   "source": [
    "import matplotlib.pyplot as plt"
   ]
  },
  {
   "cell_type": "code",
   "execution_count": 82,
   "id": "343c1fc1",
   "metadata": {},
   "outputs": [
    {
     "data": {
      "text/plain": [
       "<BarContainer object of 10 artists>"
      ]
     },
     "execution_count": 82,
     "metadata": {},
     "output_type": "execute_result"
    },
    {
     "data": {
      "image/png": "[encoded data removed]",
      "text/plain": [
       "<Figure size 432x288 with 1 Axes>"
      ]
     },
     "metadata": {
      "needs_background": "light"
     },
     "output_type": "display_data"
    }
   ],
   "source": [
    "plt.bar(x,y)"
   ]
  },
  {
   "cell_type": "code",
   "execution_count": 120,
   "id": "59d54914",
   "metadata": {},
   "outputs": [],
   "source": [
    "def foaf_bad(user):\n",
    "    return [foaf['id'] for friend in user['friends']\n",
    "           for foaf in friend['friends']]\n",
    "\n",
    "def different(user, otheruser):\n",
    "    return user['id'] != otheruser['id']\n",
    "\n",
    "def not_friends(user, otheruser):\n",
    "    return all(different(friend,otheruser) for friend in user['friends'])\n",
    "\n",
    "def foaf_good(user):\n",
    "    return (foaf['id'] \n",
    "           for friend in user['friends']\n",
    "           for foaf in friend['friends']\n",
    "           if different(user,foaf) and not_friends(user,foaf))"
   ]
  },
  {
   "cell_type": "code",
   "execution_count": 121,
   "id": "13112d61",
   "metadata": {},
   "outputs": [],
   "source": [
    "interests = [(10,\"Hadoop\"), (10,\"Big Data\"), (10, \"HBase\"), (10, \"JAVA\"), \n",
    "             (10, \"Spark\"), (10,\"Storm\"), (10, \"Cassandra\"), (1, \"Spark\"), \n",
    "             (1, \"MongoDB\"), (1, \"Cassandra\"), (1, \"HBase\"), (1,\"Postgres\"),\n",
    "             (1, \"Python\"), (1, \"NoSQL\"), (2,\"Python\"), (2, \"scikit-learn\"), \n",
    "             (2,\"scipy\"), (2, \"statmodels\"), (2, \"pandas\"), (3, \"R\"), (3, \"Python\"), (3, \"statistics\"), \n",
    "             (3, \"regression\"), (3, \"probability\"), (4, \"machine leanring\"), (4, \"regression\"), \n",
    "             (4, \"decision trees\"), (4, \"libsvm\"), (5, \"Python\"), (5, \"R\"), (5, \"JAVA\"), (5, \"C++\"),\n",
    "             (5, \"Haskell\"), (5, \"programming language\"), (6, \"statitistics\"), (6, \"probability\"), (6, \"mathematics\"), \n",
    "             (6,\"theory\"), (7, \"machine learning\"), (7, \"scikit-learn\"), (7, \"mahout\"), (7, \"neural network\"),\n",
    "             (8, \"neural network\"), (8, \"deep learning\"), (8,\"Big data\"), (8, \"artificial intelligence\"), (9, \"hadoop\"), \n",
    "             (9, \"JAVA\"), (9, \"mapreduce\"),(9, \"Big data\") \n",
    "            ] "
   ]
  },
  {
   "cell_type": "code",
   "execution_count": 126,
   "id": "d5b5419a",
   "metadata": {},
   "outputs": [
    {
     "data": {
      "text/plain": [
       "[7]"
      ]
     },
     "execution_count": 126,
     "metadata": {},
     "output_type": "execute_result"
    }
   ],
   "source": [
    "# all the students that like similar topics\n",
    "def data_scientists_who_like(target):\n",
    "   return [idd \n",
    "           for idd, interest in interests\n",
    "            if interest == target]\n",
    "data_scientists_who_like(\"machine learning\")"
   ]
  },
  {
   "cell_type": "code",
   "execution_count": 129,
   "id": "c3bd21fb",
   "metadata": {},
   "outputs": [
    {
     "name": "stdout",
     "output_type": "stream",
     "text": [
      "defaultdict(<class 'list'>, {'Hadoop': [10], 'Big Data': [10], 'HBase': [10, 1], 'JAVA': [10, 5, 9], 'Spark': [10, 1], 'Storm': [10], 'Cassandra': [10, 1], 'MongoDB': [1], 'Postgres': [1], 'Python': [1, 2, 3, 5], 'NoSQL': [1], 'scikit-learn': [2, 7], 'scipy': [2], 'statmodels': [2], 'pandas': [2], 'R': [3, 5], 'statistics': [3], 'regression': [3, 4], 'probability': [3, 6], 'machine leanring': [4], 'decision trees': [4], 'libsvm': [4], 'C++': [5], 'Haskell': [5], 'programming language': [5], 'statitistics': [6], 'mathematics': [6], 'theory': [6], 'machine learning': [7], 'mahout': [7], 'neural network': [7, 8], 'deep learning': [8], 'Big data': [8, 9], 'artificial intelligence': [8], 'hadoop': [9], 'mapreduce': [9]}) defaultdict(<class 'list'>, {10: ['Hadoop', 'Big Data', 'HBase', 'JAVA', 'Spark', 'Storm', 'Cassandra'], 1: ['Spark', 'MongoDB', 'Cassandra', 'HBase', 'Postgres', 'Python', 'NoSQL'], 2: ['Python', 'scikit-learn', 'scipy', 'statmodels', 'pandas'], 3: ['R', 'Python', 'statistics', 'regression', 'probability'], 4: ['machine leanring', 'regression', 'decision trees', 'libsvm'], 5: ['Python', 'R', 'JAVA', 'C++', 'Haskell', 'programming language'], 6: ['statitistics', 'probability', 'mathematics', 'theory'], 7: ['machine learning', 'scikit-learn', 'mahout', 'neural network'], 8: ['neural network', 'deep learning', 'Big data', 'artificial intelligence'], 9: ['hadoop', 'JAVA', 'mapreduce', 'Big data']})\n"
     ]
    }
   ],
   "source": [
    "from collections import defaultdict\n",
    "\n",
    "#keys are interests, values are list of ids\n",
    "dic_flip = defaultdict(list)\n",
    "for user, interest in interests:\n",
    "    dic_flip[interest].append(user)\n",
    "\n",
    "#keys are interests, values are list of ids\n",
    "dic_flop = defaultdict(list)\n",
    "for user, interest in interests:\n",
    "    dic_flop[user].append(interest)\n",
    "\n",
    "print(dic_flip, dic_flop)"
   ]
  },
  {
   "cell_type": "code",
   "execution_count": 103,
   "id": "85428d81",
   "metadata": {},
   "outputs": [
    {
     "data": {
      "text/plain": [
       "Text(0.5, 1.0, 'Common technology used by students')"
      ]
     },
     "execution_count": 103,
     "metadata": {},
     "output_type": "execute_result"
    },
    {
     "data": {
      "image/png": "[encoded data removed]",
      "text/plain": [
       "<Figure size 432x288 with 1 Axes>"
      ]
     },
     "metadata": {
      "needs_background": "light"
     },
     "output_type": "display_data"
    }
   ],
   "source": [
    "plt.bar(list(dic_flip.keys())[0:5], [len(dic_flip[k]) for k in list(dic_flip.keys())[0:5]])\n",
    "plt.title('Common technology used by students')"
   ]
  },
  {
   "cell_type": "code",
   "execution_count": 130,
   "id": "c6c580e3",
   "metadata": {},
   "outputs": [],
   "source": [
    "def most_common_interest_with_1 (user):\n",
    "    for interest in dic_flop[user]:\n",
    "        for interested_user in dic_flip[interest]:\n",
    "            if user['id']!= interested_user['id']:\n",
    "                Counter(interested_user)\n",
    "def most_common_interest_with_2 (user):\n",
    "    return Counter(interested_user \n",
    "                   for interest in dic_flop[user]\n",
    "                   for interested_user in dic_flip[interest]\n",
    "                   if user['id'] != interested_user['id'])"
   ]
  },
  {
   "cell_type": "code",
   "execution_count": 131,
   "id": "3d437d93",
   "metadata": {},
   "outputs": [
    {
     "ename": "NameError",
     "evalue": "name 'Counter' is not defined",
     "output_type": "error",
     "traceback": [
      "\u001b[1;31m---------------------------------------------------------------------------\u001b[0m",
      "\u001b[1;31mNameError\u001b[0m                                 Traceback (most recent call last)",
      "\u001b[1;32m<ipython-input-131-5ec801af9540>\u001b[0m in \u001b[0;36m<module>\u001b[1;34m\u001b[0m\n\u001b[1;32m----> 1\u001b[1;33m \u001b[0mmost_common_interest_with_2\u001b[0m \u001b[1;33m(\u001b[0m\u001b[0musers\u001b[0m\u001b[1;33m[\u001b[0m\u001b[1;36m0\u001b[0m\u001b[1;33m]\u001b[0m\u001b[1;33m)\u001b[0m\u001b[1;33m\u001b[0m\u001b[1;33m\u001b[0m\u001b[0m\n\u001b[0m",
      "\u001b[1;32m<ipython-input-130-402df2e0c59b>\u001b[0m in \u001b[0;36mmost_common_interest_with_2\u001b[1;34m(user)\u001b[0m\n\u001b[0;32m      5\u001b[0m                 \u001b[0mCounter\u001b[0m\u001b[1;33m(\u001b[0m\u001b[0minterested_user\u001b[0m\u001b[1;33m)\u001b[0m\u001b[1;33m\u001b[0m\u001b[1;33m\u001b[0m\u001b[0m\n\u001b[0;32m      6\u001b[0m \u001b[1;32mdef\u001b[0m \u001b[0mmost_common_interest_with_2\u001b[0m \u001b[1;33m(\u001b[0m\u001b[0muser\u001b[0m\u001b[1;33m)\u001b[0m\u001b[1;33m:\u001b[0m\u001b[1;33m\u001b[0m\u001b[1;33m\u001b[0m\u001b[0m\n\u001b[1;32m----> 7\u001b[1;33m     return Counter(interested_user \n\u001b[0m\u001b[0;32m      8\u001b[0m                    \u001b[1;32mfor\u001b[0m \u001b[0minterest\u001b[0m \u001b[1;32min\u001b[0m \u001b[0mdic_flop\u001b[0m\u001b[1;33m[\u001b[0m\u001b[0muser\u001b[0m\u001b[1;33m]\u001b[0m\u001b[1;33m\u001b[0m\u001b[1;33m\u001b[0m\u001b[0m\n\u001b[0;32m      9\u001b[0m                    \u001b[1;32mfor\u001b[0m \u001b[0minterested_user\u001b[0m \u001b[1;32min\u001b[0m \u001b[0mdic_flip\u001b[0m\u001b[1;33m[\u001b[0m\u001b[0minterest\u001b[0m\u001b[1;33m]\u001b[0m\u001b[1;33m\u001b[0m\u001b[1;33m\u001b[0m\u001b[0m\n",
      "\u001b[1;31mNameError\u001b[0m: name 'Counter' is not defined"
     ]
    }
   ],
   "source": [
    "most_common_interest_with_2 ()"
   ]
  },
  {
   "cell_type": "code",
   "execution_count": null,
   "id": "b6c0de44",
   "metadata": {},
   "outputs": [],
   "source": []
  }
 ],
 "metadata": {
  "kernelspec": {
   "display_name": "Python 3",
   "language": "python",
   "name": "python3"
  },
  "language_info": {
   "codemirror_mode": {
    "name": "ipython",
    "version": 3
   },
   "file_extension": ".py",
   "mimetype": "text/x-python",
   "name": "python",
   "nbconvert_exporter": "python",
   "pygments_lexer": "ipython3",
   "version": "3.8.8"
  }
 },
 "nbformat": 4,
 "nbformat_minor": 5
}

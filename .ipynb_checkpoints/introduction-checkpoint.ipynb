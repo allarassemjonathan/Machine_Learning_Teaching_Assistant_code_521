{
 "cells": [
  {
   "cell_type": "code",
   "execution_count": 1,
   "id": "301cf48c",
   "metadata": {},
   "outputs": [],
   "source": [
    "from collections import Counter\n"
   ]
  },
  {
   "cell_type": "code",
   "execution_count": 42,
   "id": "90adab70",
   "metadata": {},
   "outputs": [],
   "source": [
    "# enumerate the users\n",
    "users = [{\"id\":1, \"name\":\"Daniel\"},\n",
    "         {\"id\":2, \"name\":\"Jennifer\"},\n",
    "         {\"id\":3, \"name\":\"Andrew\"},\n",
    "         {\"id\":4, \"name\":\"Rachel\"},\n",
    "         {\"id\":5, \"name\":\"Alfred\"},\n",
    "         {\"id\":6, \"name\":\"Klie\"},\n",
    "         {\"id\":7, \"name\":\"Tyler\"},\n",
    "         {\"id\":8, \"name\":\"Trevor\"},\n",
    "         {\"id\":9, \"name\":\"Remi\"},\n",
    "         {\"id\":10, \"name\":\"Jonathan\"}\n",
    "        ]\n",
    "# establish the relationships\n",
    "friendships = [(0,1),(1,4),(1,5),(5,2),\n",
    "               (5,6),(5,7),(5,8),(8,7),\n",
    "               (7,9),(6,4),(6,3)\n",
    "              ]"
   ]
  },
  {
   "cell_type": "code",
   "execution_count": 43,
   "id": "ded037e6",
   "metadata": {},
   "outputs": [],
   "source": [
    "\n",
    "# first give each user an empty list\n",
    "for user in users:\n",
    "    user[\"friends\"] = []\n",
    "\n",
    "# and then populate the lists with friendships\n",
    "for i, j in friendships:\n",
    "    # this works because users[i] is the user whose id is i\n",
    "    users[i][\"friends\"].append(users[j]) # add i as a friend of j\n",
    "    users[j][\"friends\"].append(users[i]) # add j as a friend of i\n",
    "\n",
    "def number_of_friends(user):\n",
    "    \"\"\"how many friends does _user_ have?\"\"\"\n",
    "    return len(user[\"friends\"]) # length of friend_ids list\n",
    "\n",
    "total_connections = sum(number_of_friends(user)\n",
    "                        for user in users) # 24\n",
    "\n",
    "num_users = len(users)\n",
    "avg_connections = total_connections / num_users # 2.4"
   ]
  },
  {
   "cell_type": "code",
   "execution_count": 44,
   "id": "a4016339",
   "metadata": {},
   "outputs": [
    {
     "ename": "SyntaxError",
     "evalue": "invalid syntax (<ipython-input-44-92a41cf334bb>, line 26)",
     "output_type": "error",
     "traceback": [
      "\u001b[1;36m  File \u001b[1;32m\"<ipython-input-44-92a41cf334bb>\"\u001b[1;36m, line \u001b[1;32m26\u001b[0m\n\u001b[1;33m    print friends_of_friend_ids(users[3]) # Counter({0: 2, 5: 1})\u001b[0m\n\u001b[1;37m          ^\u001b[0m\n\u001b[1;31mSyntaxError\u001b[0m\u001b[1;31m:\u001b[0m invalid syntax\n"
     ]
    }
   ],
   "source": [
    "def friends_of_friend_ids_bad(user):\n",
    "    # \"foaf\" is short for \"friend of a friend\"\n",
    "    return [foaf[\"id\"]\n",
    "            for friend in user[\"friends\"] # for each of user's friends\n",
    "            for foaf in friend[\"friends\"]] # get each of _their_ friends\n",
    "\n",
    "from collections import Counter # not loaded by default\n",
    "\n",
    "def not_the_same(user, other_user):\n",
    "    \"\"\"two users are not the same if they have different ids\"\"\"\n",
    "    return user[\"id\"] != other_user[\"id\"]\n",
    "\n",
    "def not_friends(user, other_user):\n",
    "    \"\"\"other_user is not a friend if he's not in user[\"friends\"];\n",
    "    that is, if he's not_the_same as all the people in user[\"friends\"]\"\"\"\n",
    "    return all(not_the_same(friend, other_user)\n",
    "               for friend in user[\"friends\"])\n",
    "\n",
    "def friends_of_friend_ids(user):\n",
    "    return Counter(foaf[\"id\"]\n",
    "                   for friend in user[\"friends\"]  # for each of my friends\n",
    "                   for foaf in friend[\"friends\"]  # count *their* friends\n",
    "                   if not_the_same(user, foaf)    # who aren't me\n",
    "                   and not_friends(user, foaf))   # and aren't my friends\n",
    "\n",
    "print (friends_of_friend_ids(users[3])) # Counter({0: 2, 5: 1})\n"
   ]
  },
  {
   "cell_type": "code",
   "execution_count": 5,
   "id": "8f8b01ec",
   "metadata": {},
   "outputs": [
    {
     "name": "stdout",
     "output_type": "stream",
     "text": [
      "[1, 2, 3, 4, 5, 6, 7, 8, 9, 10] [1, 3, 1, 1, 2, 5, 3, 3, 2, 1]\n"
     ]
    }
   ],
   "source": [
    "# calculate the numb of friends by id\n",
    "tuplee_id_friends = [(user[\"id\"], num_of_friends(user)) for user in users]\n",
    "x = [i for i,j in tuplee_id_friends]\n",
    "y = [j for i,j in tuplee_id_friends]\n",
    "print(x,y)"
   ]
  },
  {
   "cell_type": "code",
   "execution_count": 6,
   "id": "f6ff4d50",
   "metadata": {},
   "outputs": [],
   "source": [
    "import matplotlib.pyplot as plt"
   ]
  },
  {
   "cell_type": "code",
   "execution_count": 7,
   "id": "343c1fc1",
   "metadata": {},
   "outputs": [
    {
     "data": {
      "text/plain": [
       "Text(0.5, 1.0, 'number of relationships with respect to individuals')"
      ]
     },
     "execution_count": 7,
     "metadata": {},
     "output_type": "execute_result"
    },
    {
     "data": {
      "image/png": "[encoded data removed]",
      "text/plain": [
       "<Figure size 432x288 with 1 Axes>"
      ]
     },
     "metadata": {
      "needs_background": "light"
     },
     "output_type": "display_data"
    }
   ],
   "source": [
    "plt.bar(x,y)\n",
    "plt.title('number of relationships with respect to individuals')"
   ]
  },
  {
   "cell_type": "code",
   "execution_count": 8,
   "id": "59d54914",
   "metadata": {},
   "outputs": [],
   "source": [
    "def foaf_bad(user):\n",
    "    return [foaf['id'] for friend in user['friends']\n",
    "           for foaf in friend['friends']]\n",
    "\n",
    "def different(user, otheruser):\n",
    "    return user['id'] != otheruser['id']\n",
    "\n",
    "def not_friends(user, otheruser):\n",
    "    return all(different(friend,otheruser) for friend in user['friends'])\n",
    "\n",
    "def foaf_good(user):\n",
    "    return (foaf['id'] \n",
    "           for friend in user['friends']\n",
    "           for foaf in friend['friends']\n",
    "           if different(user,foaf) and not_friends(user,foaf))"
   ]
  },
  {
   "cell_type": "code",
   "execution_count": 9,
   "id": "13112d61",
   "metadata": {},
   "outputs": [],
   "source": [
    "interests = [(10,\"Hadoop\"), (10,\"Big Data\"), (10, \"HBase\"), (10, \"JAVA\"), \n",
    "             (10, \"Spark\"), (10,\"Storm\"), (10, \"Cassandra\"), (1, \"Spark\"), \n",
    "             (1, \"MongoDB\"), (1, \"Cassandra\"), (1, \"HBase\"), (1,\"Postgres\"),\n",
    "             (1, \"Python\"), (1, \"NoSQL\"), (2,\"Python\"), (2, \"scikit-learn\"), \n",
    "             (2,\"scipy\"), (2, \"statmodels\"), (2, \"pandas\"), (3, \"R\"), (3, \"Python\"), (3, \"statistics\"), \n",
    "             (3, \"regression\"), (3, \"probability\"), (4, \"machine leanring\"), (4, \"regression\"), \n",
    "             (4, \"decision trees\"), (4, \"libsvm\"), (5, \"Python\"), (5, \"R\"), (5, \"JAVA\"), (5, \"C++\"),\n",
    "             (5, \"Haskell\"), (5, \"programming language\"), (6, \"statitistics\"), (6, \"probability\"), (6, \"mathematics\"), \n",
    "             (6,\"theory\"), (7, \"machine learning\"), (7, \"scikit-learn\"), (7, \"mahout\"), (7, \"neural network\"),\n",
    "             (8, \"neural network\"), (8, \"deep learning\"), (8,\"Big data\"), (8, \"artificial intelligence\"), (9, \"hadoop\"), \n",
    "             (9, \"JAVA\"), (9, \"mapreduce\"),(9, \"Big data\") \n",
    "            ] "
   ]
  },
  {
   "cell_type": "code",
   "execution_count": 10,
   "id": "d5b5419a",
   "metadata": {},
   "outputs": [
    {
     "data": {
      "text/plain": [
       "[7]"
      ]
     },
     "execution_count": 10,
     "metadata": {},
     "output_type": "execute_result"
    }
   ],
   "source": [
    "# all the students that like similar topics\n",
    "def data_scientists_who_like(target):\n",
    "   return [idd \n",
    "           for idd, interest in interests\n",
    "            if interest == target]\n",
    "data_scientists_who_like(\"machine learning\")"
   ]
  },
  {
   "cell_type": "code",
   "execution_count": 11,
   "id": "c3bd21fb",
   "metadata": {},
   "outputs": [
    {
     "name": "stdout",
     "output_type": "stream",
     "text": [
      "defaultdict(<class 'list'>, {'Hadoop': [10], 'Big Data': [10], 'HBase': [10, 1], 'JAVA': [10, 5, 9], 'Spark': [10, 1], 'Storm': [10], 'Cassandra': [10, 1], 'MongoDB': [1], 'Postgres': [1], 'Python': [1, 2, 3, 5], 'NoSQL': [1], 'scikit-learn': [2, 7], 'scipy': [2], 'statmodels': [2], 'pandas': [2], 'R': [3, 5], 'statistics': [3], 'regression': [3, 4], 'probability': [3, 6], 'machine leanring': [4], 'decision trees': [4], 'libsvm': [4], 'C++': [5], 'Haskell': [5], 'programming language': [5], 'statitistics': [6], 'mathematics': [6], 'theory': [6], 'machine learning': [7], 'mahout': [7], 'neural network': [7, 8], 'deep learning': [8], 'Big data': [8, 9], 'artificial intelligence': [8], 'hadoop': [9], 'mapreduce': [9]}) defaultdict(<class 'list'>, {10: ['Hadoop', 'Big Data', 'HBase', 'JAVA', 'Spark', 'Storm', 'Cassandra'], 1: ['Spark', 'MongoDB', 'Cassandra', 'HBase', 'Postgres', 'Python', 'NoSQL'], 2: ['Python', 'scikit-learn', 'scipy', 'statmodels', 'pandas'], 3: ['R', 'Python', 'statistics', 'regression', 'probability'], 4: ['machine leanring', 'regression', 'decision trees', 'libsvm'], 5: ['Python', 'R', 'JAVA', 'C++', 'Haskell', 'programming language'], 6: ['statitistics', 'probability', 'mathematics', 'theory'], 7: ['machine learning', 'scikit-learn', 'mahout', 'neural network'], 8: ['neural network', 'deep learning', 'Big data', 'artificial intelligence'], 9: ['hadoop', 'JAVA', 'mapreduce', 'Big data']})\n"
     ]
    }
   ],
   "source": [
    "from collections import defaultdict\n",
    "\n",
    "#keys are interests, values are list of ids\n",
    "dic_flip = defaultdict(list)\n",
    "for user, interest in interests:\n",
    "    dic_flip[interest].append(user)\n",
    "\n",
    "#keys are interests, values are list of ids\n",
    "dic_flop = defaultdict(list)\n",
    "for user, interest in interests:\n",
    "    dic_flop[user].append(interest)\n",
    "\n",
    "print(dic_flip, dic_flop)"
   ]
  },
  {
   "cell_type": "code",
   "execution_count": 12,
   "id": "85428d81",
   "metadata": {},
   "outputs": [
    {
     "data": {
      "text/plain": [
       "Text(0.5, 1.0, 'Common technology used by students')"
      ]
     },
     "execution_count": 12,
     "metadata": {},
     "output_type": "execute_result"
    },
    {
     "data": {
      "image/png": "[encoded data removed]",
      "text/plain": [
       "<Figure size 432x288 with 1 Axes>"
      ]
     },
     "metadata": {
      "needs_background": "light"
     },
     "output_type": "display_data"
    }
   ],
   "source": [
    "plt.bar(list(dic_flip.keys())[0:5], [len(dic_flip[k]) for k in list(dic_flip.keys())[0:5]])\n",
    "plt.title('Common technology used by students')"
   ]
  },
  {
   "cell_type": "code",
   "execution_count": 13,
   "id": "c6c580e3",
   "metadata": {},
   "outputs": [],
   "source": [
    "def most_common_interest_with_2 (user):\n",
    "    return Counter(interested_user \n",
    "                   for interest in dic_flop[user['id']]\n",
    "                   for interested_user in dic_flip[interest]\n",
    "                   if user['id'] != interested_user)"
   ]
  },
  {
   "cell_type": "code",
   "execution_count": 14,
   "id": "3d437d93",
   "metadata": {},
   "outputs": [
    {
     "data": {
      "text/plain": [
       "Counter({10: 3, 2: 1, 3: 1, 5: 1})"
      ]
     },
     "execution_count": 14,
     "metadata": {},
     "output_type": "execute_result"
    }
   ],
   "source": [
    "most_common_interest_with_2 (users[0])"
   ]
  },
  {
   "cell_type": "code",
   "execution_count": 15,
   "id": "b6c0de44",
   "metadata": {},
   "outputs": [],
   "source": [
    "salaries_and_tenures = [(83000, 8.7), (88000, 8.1),\n",
    "                        (48000, 0.7), (76000, 6),\n",
    "                        (69000, 6.5), (76000, 7.5),\n",
    "                        (60000, 2.5), (83000, 10),\n",
    "                        (48000, 1.9), (63000, 4.2)]\n"
   ]
  },
  {
   "cell_type": "code",
   "execution_count": 16,
   "id": "116dabe0",
   "metadata": {},
   "outputs": [],
   "source": [
    "def make_chart_salaries_by_tenure():\n",
    "    tenures = [tenure for salary, tenure in salaries_and_tenures]\n",
    "    salaries = [salary for salary, tenure in salaries_and_tenures]\n",
    "    plt.scatter(tenures, salaries)\n",
    "    plt.xlabel(\"Years Experience\")\n",
    "    plt.ylabel(\"Salary\")\n",
    "    plt.show()"
   ]
  },
  {
   "cell_type": "code",
   "execution_count": 17,
   "id": "280e266a",
   "metadata": {},
   "outputs": [],
   "source": [
    "# values are the salaries for each tenure\n",
    "salary_by_tenure = defaultdict(list)\n",
    "\n",
    "for salary, tenure in salaries_and_tenures:\n",
    "    salary_by_tenure[tenure].append(salary)\n",
    "\n",
    "average_salary_by_tenure = {\n",
    "    tenure : sum(salaries) / len(salaries)\n",
    "    for tenure, salaries in salary_by_tenure.items()\n",
    "}"
   ]
  },
  {
   "cell_type": "code",
   "execution_count": 18,
   "id": "4552d533",
   "metadata": {},
   "outputs": [],
   "source": [
    "# values are the salaries for each tenure\n",
    "salary_by_tenure = defaultdict(list)\n",
    "\n",
    "for salary, tenure in salaries_and_tenures:\n",
    "    salary_by_tenure[tenure].append(salary)\n",
    "\n",
    "average_salary_by_tenure = {\n",
    "    tenure : sum(salaries) / len(salaries)\n",
    "    for tenure, salaries in salary_by_tenure.items()\n",
    "}"
   ]
  },
  {
   "cell_type": "code",
   "execution_count": 21,
   "id": "59c92983",
   "metadata": {},
   "outputs": [],
   "source": [
    "\n",
    "def predict_paid_or_unpaid(years_experience):\n",
    "  if years_experience < 3.0: return \"paid\"\n",
    "  elif years_experience < 8.5: return \"unpaid\"\n",
    "  else: return \"paid\""
   ]
  },
  {
   "cell_type": "code",
   "execution_count": 22,
   "id": "7a6fdd1d",
   "metadata": {},
   "outputs": [],
   "source": [
    "\n",
    "words_and_counts = Counter(word\n",
    "                           for user, interest in interests\n",
    "                           for word in interest.lower().split())"
   ]
  },
  {
   "cell_type": "code",
   "execution_count": 35,
   "id": "b689b11d",
   "metadata": {},
   "outputs": [
    {
     "name": "stdout",
     "output_type": "stream",
     "text": [
      "######################\n",
      "#\n",
      "# FINDING KEY CONNECTORS\n",
      "#\n",
      "######################\n"
     ]
    },
    {
     "ename": "NameError",
     "evalue": "name 'total_connections' is not defined",
     "output_type": "error",
     "traceback": [
      "\u001b[1;31m---------------------------------------------------------------------------\u001b[0m",
      "\u001b[1;31mNameError\u001b[0m                                 Traceback (most recent call last)",
      "\u001b[1;32m<ipython-input-35-d07e98d5eae2>\u001b[0m in \u001b[0;36m<module>\u001b[1;34m\u001b[0m\n\u001b[0;32m      8\u001b[0m \u001b[1;33m\u001b[0m\u001b[0m\n\u001b[0;32m      9\u001b[0m \u001b[1;33m\u001b[0m\u001b[0m\n\u001b[1;32m---> 10\u001b[1;33m     \u001b[0mprint\u001b[0m \u001b[1;33m(\u001b[0m\u001b[1;34m\"total connections\"\u001b[0m\u001b[1;33m,\u001b[0m \u001b[0mtotal_connections\u001b[0m\u001b[1;33m)\u001b[0m\u001b[1;33m\u001b[0m\u001b[1;33m\u001b[0m\u001b[0m\n\u001b[0m\u001b[0;32m     11\u001b[0m     \u001b[0mprint\u001b[0m \u001b[1;33m(\u001b[0m\u001b[1;34m\"number of users\"\u001b[0m\u001b[1;33m,\u001b[0m \u001b[0mnum_users\u001b[0m\u001b[1;33m)\u001b[0m\u001b[1;33m\u001b[0m\u001b[1;33m\u001b[0m\u001b[0m\n\u001b[0;32m     12\u001b[0m     \u001b[0mprint\u001b[0m \u001b[1;33m(\u001b[0m\u001b[1;34m\"average connections\"\u001b[0m\u001b[1;33m,\u001b[0m \u001b[0mtotal_connections\u001b[0m \u001b[1;33m/\u001b[0m \u001b[0mnum_users\u001b[0m\u001b[1;33m)\u001b[0m\u001b[1;33m\u001b[0m\u001b[1;33m\u001b[0m\u001b[0m\n",
      "\u001b[1;31mNameError\u001b[0m: name 'total_connections' is not defined"
     ]
    }
   ],
   "source": [
    "if __name__ == \"__main__\":\n",
    "    print (\"######################\")\n",
    "    print (\"#\")\n",
    "    print (\"# FINDING KEY CONNECTORS\")\n",
    "    print (\"#\")\n",
    "    print (\"######################\")\n",
    "    print\n",
    "\n",
    "\n",
    "    print (\"total connections\", total_connections)\n",
    "    print (\"number of users\", num_users)\n",
    "    print (\"average connections\", total_connections / num_users)\n",
    "    print\n",
    "\n",
    "    # create a list (user_id, number_of_friends)\n",
    "    num_friends_by_id = [(user[\"id\"], number_of_friends(user))\n",
    "                         for user in users]\n",
    "\n",
    "    print (\"users sorted by number of friends:\")\n",
    "    s = sorted(num_friends_by_id,\n",
    "                 key=lambda user_id, num_friends: num_friends, # by number of friends\n",
    "                 reverse=True)\n",
    "    print(s)\n",
    "    # largest to smallest\n",
    "\n",
    "    print\n",
    "    print (\"######################\")\n",
    "    print (\"#\")\n",
    "    print (\"# DATA SCIENTISTS YOU MAY KNOW\")\n",
    "    print (\"#\")\n",
    "    print (\"######################\")\n",
    "    print\n",
    "\n",
    "\n",
    "    print (\"friends of friends bad for user 0:\", friends_of_friend_ids_bad(users[0]))\n",
    "    print (\"friends of friends for user 3:\", friends_of_friend_ids(users[3]))\n"
   ]
  },
  {
   "cell_type": "code",
   "execution_count": 38,
   "id": "e31b3ab4",
   "metadata": {},
   "outputs": [
    {
     "name": "stdout",
     "output_type": "stream",
     "text": [
      "######################\n",
      "#\n",
      "# SALARIES AND TENURES\n",
      "#\n",
      "######################\n",
      "average salary by tenure {8.7: 83000.0, 8.1: 88000.0, 0.7: 48000.0, 6: 76000.0, 6.5: 69000.0, 7.5: 76000.0, 2.5: 60000.0, 10: 83000.0, 1.9: 48000.0, 4.2: 63000.0}\n"
     ]
    },
    {
     "ename": "NameError",
     "evalue": "name 'average_salary_by_bucket' is not defined",
     "output_type": "error",
     "traceback": [
      "\u001b[1;31m---------------------------------------------------------------------------\u001b[0m",
      "\u001b[1;31mNameError\u001b[0m                                 Traceback (most recent call last)",
      "\u001b[1;32m<ipython-input-38-9f0b2f407f96>\u001b[0m in \u001b[0;36m<module>\u001b[1;34m\u001b[0m\n\u001b[0;32m      8\u001b[0m \u001b[1;33m\u001b[0m\u001b[0m\n\u001b[0;32m      9\u001b[0m \u001b[0mprint\u001b[0m \u001b[1;33m(\u001b[0m\u001b[1;34m\"average salary by tenure\"\u001b[0m\u001b[1;33m,\u001b[0m \u001b[0maverage_salary_by_tenure\u001b[0m\u001b[1;33m)\u001b[0m\u001b[1;33m\u001b[0m\u001b[1;33m\u001b[0m\u001b[0m\n\u001b[1;32m---> 10\u001b[1;33m \u001b[0mprint\u001b[0m \u001b[1;33m(\u001b[0m\u001b[1;34m\"average salary by tenure bucket\"\u001b[0m\u001b[1;33m,\u001b[0m \u001b[0maverage_salary_by_bucket\u001b[0m\u001b[1;33m)\u001b[0m\u001b[1;33m\u001b[0m\u001b[1;33m\u001b[0m\u001b[0m\n\u001b[0m\u001b[0;32m     11\u001b[0m \u001b[1;33m\u001b[0m\u001b[0m\n\u001b[0;32m     12\u001b[0m \u001b[0mprint\u001b[0m\u001b[1;33m\u001b[0m\u001b[1;33m\u001b[0m\u001b[0m\n",
      "\u001b[1;31mNameError\u001b[0m: name 'average_salary_by_bucket' is not defined"
     ]
    }
   ],
   "source": [
    "print\n",
    "print (\"######################\")\n",
    "print (\"#\")\n",
    "print (\"# SALARIES AND TENURES\")\n",
    "print (\"#\")\n",
    "print (\"######################\")\n",
    "print\n",
    "\n",
    "print (\"average salary by tenure\", average_salary_by_tenure)\n",
    "print (\"average salary by tenure bucket\", average_salary_by_bucket)\n",
    "\n",
    "print\n",
    "print (\"######################\")\n",
    "print (\"#\")\n",
    "print (\"# MOST COMMON WORDS\")\n",
    "print (\"#\")\n",
    "print (\"######################\")\n",
    "print\n",
    "\n",
    "for word, count in words_and_counts.most_common():\n",
    "    if count > 1:\n",
    "        print (word, count)"
   ]
  },
  {
   "cell_type": "code",
   "execution_count": null,
   "id": "7584426f",
   "metadata": {},
   "outputs": [],
   "source": []
  }
 ],
 "metadata": {
  "kernelspec": {
   "display_name": "Python 3",
   "language": "python",
   "name": "python3"
  },
  "language_info": {
   "codemirror_mode": {
    "name": "ipython",
    "version": 3
   },
   "file_extension": ".py",
   "mimetype": "text/x-python",
   "name": "python",
   "nbconvert_exporter": "python",
   "pygments_lexer": "ipython3",
   "version": "3.8.8"
  }
 },
 "nbformat": 4,
 "nbformat_minor": 5
}
